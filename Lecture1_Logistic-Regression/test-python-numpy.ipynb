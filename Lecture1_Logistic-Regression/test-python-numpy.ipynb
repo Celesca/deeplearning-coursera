{
 "cells": [
  {
   "cell_type": "code",
   "execution_count": 1,
   "metadata": {},
   "outputs": [],
   "source": [
    "import numpy as np\n",
    "\n",
    "a = np.random.randn(5) # rank 1 array - 5 guassian random numbers"
   ]
  },
  {
   "cell_type": "code",
   "execution_count": 2,
   "metadata": {},
   "outputs": [
    {
     "name": "stdout",
     "output_type": "stream",
     "text": [
      "[-1.37582709 -0.72120331  0.7317325  -1.6444271   1.19146303]\n"
     ]
    }
   ],
   "source": [
    "print(a)"
   ]
  },
  {
   "cell_type": "code",
   "execution_count": 3,
   "metadata": {},
   "outputs": [
    {
     "name": "stdout",
     "output_type": "stream",
     "text": [
      "(5,)\n"
     ]
    }
   ],
   "source": [
    "print(a.shape) # rank 1 array -"
   ]
  },
  {
   "cell_type": "code",
   "execution_count": 4,
   "metadata": {},
   "outputs": [
    {
     "name": "stdout",
     "output_type": "stream",
     "text": [
      "[-1.37582709 -0.72120331  0.7317325  -1.6444271   1.19146303]\n"
     ]
    }
   ],
   "source": [
    "print(a.T)"
   ]
  },
  {
   "cell_type": "code",
   "execution_count": 10,
   "metadata": {},
   "outputs": [
    {
     "name": "stdout",
     "output_type": "stream",
     "text": [
      "[[ 2.78967035  3.23866919  2.53602719 -3.41372669 -1.33880028]\n",
      " [ 3.23866919  3.75993462  2.94420204 -3.96316772 -1.55428086]\n",
      " [ 2.53602719  2.94420204  2.30544584 -3.10334291 -1.21707352]\n",
      " [-3.41372669 -3.96316772 -3.10334291  4.17738603  1.6382933 ]\n",
      " [-1.33880028 -1.55428086 -1.21707352  1.6382933   0.64250824]]\n"
     ]
    }
   ],
   "source": [
    "print(np.dot(a, a.T))"
   ]
  },
  {
   "cell_type": "markdown",
   "metadata": {},
   "source": [
    "---"
   ]
  },
  {
   "cell_type": "markdown",
   "metadata": {},
   "source": [
    "Matrix (Column Vector)"
   ]
  },
  {
   "cell_type": "code",
   "execution_count": 6,
   "metadata": {},
   "outputs": [
    {
     "name": "stdout",
     "output_type": "stream",
     "text": [
      "[[ 1.67023063]\n",
      " [ 1.93905508]\n",
      " [ 1.51836947]\n",
      " [-2.04386546]\n",
      " [-0.80156612]]\n"
     ]
    }
   ],
   "source": [
    "a = np.random.randn(5,1)\n",
    "\n",
    "print(a) # column vector"
   ]
  },
  {
   "cell_type": "code",
   "execution_count": 7,
   "metadata": {},
   "outputs": [
    {
     "name": "stdout",
     "output_type": "stream",
     "text": [
      "[[ 1.67023063  1.93905508  1.51836947 -2.04386546 -0.80156612]]\n"
     ]
    }
   ],
   "source": [
    "print(a.T)"
   ]
  },
  {
   "cell_type": "code",
   "execution_count": 8,
   "metadata": {},
   "outputs": [
    {
     "name": "stdout",
     "output_type": "stream",
     "text": [
      "[[ 2.78967035  3.23866919  2.53602719 -3.41372669 -1.33880028]\n",
      " [ 3.23866919  3.75993462  2.94420204 -3.96316772 -1.55428086]\n",
      " [ 2.53602719  2.94420204  2.30544584 -3.10334291 -1.21707352]\n",
      " [-3.41372669 -3.96316772 -3.10334291  4.17738603  1.6382933 ]\n",
      " [-1.33880028 -1.55428086 -1.21707352  1.6382933   0.64250824]]\n"
     ]
    }
   ],
   "source": [
    "print(np.dot(a, a.T))"
   ]
  },
  {
   "cell_type": "markdown",
   "metadata": {},
   "source": [
    "### Always use the column vector, row vector instead of rank 1 array data structure\n",
    "\n",
    "for training AIs."
   ]
  },
  {
   "cell_type": "markdown",
   "metadata": {},
   "source": [
    "you can use assert(a.shape == 5.1) or a = a.reshape((5,1))"
   ]
  },
  {
   "cell_type": "code",
   "execution_count": 11,
   "metadata": {},
   "outputs": [
    {
     "name": "stdout",
     "output_type": "stream",
     "text": [
      "[[3 3]\n",
      " [4 2]]\n"
     ]
    }
   ],
   "source": [
    "a = np.array([[1,1], [1,-1]])\n",
    "b = np.array([[2], [3]])\n",
    "\n",
    "c = a + b\n",
    "print(c)"
   ]
  },
  {
   "cell_type": "code",
   "execution_count": null,
   "metadata": {},
   "outputs": [],
   "source": []
  }
 ],
 "metadata": {
  "kernelspec": {
   "display_name": "base",
   "language": "python",
   "name": "python3"
  },
  "language_info": {
   "codemirror_mode": {
    "name": "ipython",
    "version": 3
   },
   "file_extension": ".py",
   "mimetype": "text/x-python",
   "name": "python",
   "nbconvert_exporter": "python",
   "pygments_lexer": "ipython3",
   "version": "3.12.2"
  }
 },
 "nbformat": 4,
 "nbformat_minor": 2
}
